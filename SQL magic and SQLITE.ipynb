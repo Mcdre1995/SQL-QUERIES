{
 "cells": [
  {
   "cell_type": "code",
   "execution_count": 1,
   "id": "8ddbfecf-9c3b-4c30-812a-916add3d7a3b",
   "metadata": {
    "tags": []
   },
   "outputs": [
    {
     "name": "stdout",
     "output_type": "stream",
     "text": [
      "Requirement already satisfied: ipython-sql in c:\\users\\user\\anaconda3\\lib\\site-packages (0.5.0)\n",
      "Requirement already satisfied: prettytable in c:\\users\\user\\anaconda3\\lib\\site-packages (from ipython-sql) (3.9.0)\n",
      "Requirement already satisfied: ipython in c:\\users\\user\\anaconda3\\lib\\site-packages (from ipython-sql) (8.15.0)\n",
      "Requirement already satisfied: sqlalchemy>=2.0 in c:\\users\\user\\anaconda3\\lib\\site-packages (from ipython-sql) (2.0.27)\n",
      "Requirement already satisfied: sqlparse in c:\\users\\user\\anaconda3\\lib\\site-packages (from ipython-sql) (0.4.4)\n",
      "Requirement already satisfied: six in c:\\users\\user\\anaconda3\\lib\\site-packages (from ipython-sql) (1.16.0)\n",
      "Requirement already satisfied: ipython-genutils in c:\\users\\user\\anaconda3\\lib\\site-packages (from ipython-sql) (0.2.0)\n",
      "Requirement already satisfied: typing-extensions>=4.6.0 in c:\\users\\user\\anaconda3\\lib\\site-packages (from sqlalchemy>=2.0->ipython-sql) (4.7.1)\n",
      "Requirement already satisfied: greenlet!=0.4.17 in c:\\users\\user\\anaconda3\\lib\\site-packages (from sqlalchemy>=2.0->ipython-sql) (2.0.1)\n",
      "Requirement already satisfied: backcall in c:\\users\\user\\anaconda3\\lib\\site-packages (from ipython->ipython-sql) (0.2.0)\n",
      "Requirement already satisfied: decorator in c:\\users\\user\\anaconda3\\lib\\site-packages (from ipython->ipython-sql) (5.1.1)\n",
      "Requirement already satisfied: jedi>=0.16 in c:\\users\\user\\anaconda3\\lib\\site-packages (from ipython->ipython-sql) (0.18.1)\n",
      "Requirement already satisfied: matplotlib-inline in c:\\users\\user\\anaconda3\\lib\\site-packages (from ipython->ipython-sql) (0.1.6)\n",
      "Requirement already satisfied: pickleshare in c:\\users\\user\\anaconda3\\lib\\site-packages (from ipython->ipython-sql) (0.7.5)\n",
      "Requirement already satisfied: prompt-toolkit!=3.0.37,<3.1.0,>=3.0.30 in c:\\users\\user\\anaconda3\\lib\\site-packages (from ipython->ipython-sql) (3.0.36)\n",
      "Requirement already satisfied: pygments>=2.4.0 in c:\\users\\user\\anaconda3\\lib\\site-packages (from ipython->ipython-sql) (2.15.1)\n",
      "Requirement already satisfied: stack-data in c:\\users\\user\\anaconda3\\lib\\site-packages (from ipython->ipython-sql) (0.2.0)\n",
      "Requirement already satisfied: traitlets>=5 in c:\\users\\user\\anaconda3\\lib\\site-packages (from ipython->ipython-sql) (5.7.1)\n",
      "Requirement already satisfied: colorama in c:\\users\\user\\anaconda3\\lib\\site-packages (from ipython->ipython-sql) (0.4.6)\n",
      "Requirement already satisfied: wcwidth in c:\\users\\user\\anaconda3\\lib\\site-packages (from prettytable->ipython-sql) (0.2.5)\n",
      "Requirement already satisfied: parso<0.9.0,>=0.8.0 in c:\\users\\user\\anaconda3\\lib\\site-packages (from jedi>=0.16->ipython->ipython-sql) (0.8.3)\n",
      "Requirement already satisfied: executing in c:\\users\\user\\anaconda3\\lib\\site-packages (from stack-data->ipython->ipython-sql) (0.8.3)\n",
      "Requirement already satisfied: asttokens in c:\\users\\user\\anaconda3\\lib\\site-packages (from stack-data->ipython->ipython-sql) (2.0.5)\n",
      "Requirement already satisfied: pure-eval in c:\\users\\user\\anaconda3\\lib\\site-packages (from stack-data->ipython->ipython-sql) (0.2.2)\n"
     ]
    }
   ],
   "source": [
    "!pip install ipython-sql"
   ]
  },
  {
   "cell_type": "code",
   "execution_count": 2,
   "id": "2311ef7a-915b-4d47-9abe-6cbe5f356f0c",
   "metadata": {
    "tags": []
   },
   "outputs": [],
   "source": [
    "#%load_ext sql. This command is used to load the SQL magic extension in Jupyter notebooks, allowing you to run SQL commands directly in a cell.\n",
    "%load_ext sql"
   ]
  },
  {
   "cell_type": "code",
   "execution_count": 3,
   "id": "32f166d2-c21d-4720-aa12-ec8f2325466a",
   "metadata": {
    "tags": []
   },
   "outputs": [],
   "source": [
    "#This line opens the infile database ~test_file.db~ if this file does not exit, it creates it\n",
    "%sql sqlite:///Test_file.db"
   ]
  },
  {
   "cell_type": "code",
   "execution_count": 4,
   "id": "80e18371-48c2-484b-9741-bc8be98f1cce",
   "metadata": {
    "tags": []
   },
   "outputs": [
    {
     "name": "stdout",
     "output_type": "stream",
     "text": [
      " * sqlite:///Test_file.db\n",
      "(sqlite3.OperationalError) no such table: STUDENT_SCORES\n",
      "[SQL: DROP table STUDENT_SCORES;]\n",
      "(Background on this error at: https://sqlalche.me/e/20/e3q8)\n"
     ]
    }
   ],
   "source": [
    "#Drop the table incase it is already created\n",
    "%sql DROP table STUDENT_SCORES;"
   ]
  },
  {
   "cell_type": "code",
   "execution_count": 11,
   "id": "e088a8e2-ec5e-4091-ac01-44c06081713e",
   "metadata": {
    "tags": []
   },
   "outputs": [
    {
     "name": "stdout",
     "output_type": "stream",
     "text": [
      " * sqlite:///Test_file.db\n",
      "Done.\n"
     ]
    },
    {
     "data": {
      "text/plain": [
       "[]"
      ]
     },
     "execution_count": 11,
     "metadata": {},
     "output_type": "execute_result"
    }
   ],
   "source": [
    "%%sql\n",
    "\n",
    "CREATE TABLE STUDENT_SCORES\n",
    "(\n",
    " ID INT PRIMARY KEY NOT NULL,\n",
    " Country VARCHAR(20),\n",
    " First_name VARCHAR(50),\n",
    " Last_name VARCHAR(50),\n",
    " Test_score INT\n",
    ");"
   ]
  },
  {
   "cell_type": "code",
   "execution_count": 13,
   "id": "6697b4fa-3a5c-4a4c-94ef-61382ebafcf6",
   "metadata": {
    "tags": []
   },
   "outputs": [
    {
     "name": "stdout",
     "output_type": "stream",
     "text": [
      " * sqlite:///Test_file.db\n",
      "99 rows affected.\n"
     ]
    },
    {
     "data": {
      "text/plain": [
       "[]"
      ]
     },
     "execution_count": 13,
     "metadata": {},
     "output_type": "execute_result"
    }
   ],
   "source": [
    "%%sql\n",
    "\n",
    "INSERT INTO STUDENT_SCORES\n",
    "(ID,Country, First_name, Last_name, Test_score)\n",
    "VALUES\n",
    "(1,'United States', 'Marshall', 'Bernadot', 54),\n",
    "(2,'Ghana', 'Celinda', 'Malkin', 51),\n",
    "(3,'Ukraine', 'Guillermo', 'Furze', 53),\n",
    "(4,'Greece', 'Aharon', 'Tunnow', 48),\n",
    "(5,'Russia', 'Bail', 'Goodwin', 46),\n",
    "(6,'Poland', 'Cole', 'Winteringham', 49),\n",
    "(7,'Sweden', 'Emlyn', 'Erricker', 55),\n",
    "(8,'Russia', 'Cathee', 'Sivewright', 49),\n",
    "(9,'China', 'Barny', 'Ingerson', 57),\n",
    "(10,'Uganda', 'Sharla', 'Papaccio', 55),\n",
    "(11,'China', 'Stella', 'Youens', 51),\n",
    "(12,'Poland', 'Julio', 'Buesden', 48),\n",
    "(13,'United States', 'Tiffie', 'Cosely', 58),\n",
    "(14,'Poland', 'Auroora', 'Stiffell', 45),\n",
    "(15,'China', 'Clarita', 'Huet', 52),\n",
    "(16,'Poland', 'Shannon', 'Goulden', 45),\n",
    "(17,'Philippines', 'Emylee', 'Privost', 50),\n",
    "(18,'France', 'Madelina', 'Burk', 49),\n",
    "(19,'China', 'Saunderson', 'Root', 58),\n",
    "(20,'Indonesia', 'Bo', 'Waring', 55),\n",
    "(21,'China', 'Hollis', 'Domotor', 45),\n",
    "(22,'Russia', 'Robbie', 'Collip', 46),\n",
    "(23,'Philippines', 'Davon', 'Donisi', 46),\n",
    "(24,'China', 'Cristabel', 'Radeliffe', 48),\n",
    "(25,'China', 'Wallis', 'Bartleet', 58),\n",
    "(26,'Moldova', 'Arleen', 'Stailey', 38),\n",
    "(27,'Ireland', 'Mendel', 'Grumble', 58),\n",
    "(28,'China', 'Sallyann', 'Exley', 51),\n",
    "(29,'Mexico', 'Kain', 'Swaite', 46),\n",
    "(30,'Indonesia', 'Alonso', 'Bulteel', 45),\n",
    "(31,'Armenia', 'Anatol', 'Tankus', 51),\n",
    "(32,'Indonesia', 'Coralyn', 'Dawkins', 48),\n",
    "(33,'China', 'Deanne', 'Edwinson', 45),\n",
    "(34,'China', 'Georgiana', 'Epple', 51),\n",
    "(35,'Portugal', 'Bartlet', 'Breese', 56),\n",
    "(36,'Azerbaijan', 'Idalina', 'Lukash', 50),\n",
    "(37,'France', 'Livvie', 'Flory', 54),\n",
    "(38,'Malaysia', 'Nonie', 'Borit', 48),\n",
    "(39,'Indonesia', 'Clio', 'Mugg', 47),\n",
    "(40,'Brazil', 'Westley', 'Measor', 48),\n",
    "(41,'Philippines', 'Katrinka', 'Sibbert', 51),\n",
    "(42,'Poland', 'Valentia', 'Mounch', 50),\n",
    "(43,'Norway', 'Sheilah', 'Hedditch', 53),\n",
    "(44,'Papua New Guinea', 'Itch', 'Jubb', 50),\n",
    "(45,'Latvia', 'Stesha', 'Garnson', 53),\n",
    "(46,'Canada', 'Cristionna', 'Wadmore', 46),\n",
    "(47,'China', 'Lianna', 'Gatward', 43),\n",
    "(48,'Guatemala', 'Tanney', 'Vials', 48),\n",
    "(49,'France', 'Alma', 'Zavittieri', 44),\n",
    "(50,'China', 'Alvira', 'Tamas', 50),\n",
    "(51,'United States', 'Shanon', 'Peres', 45),\n",
    "(52,'Sweden', 'Maisey', 'Lynas', 53),\n",
    "(53,'Indonesia', 'Kip', 'Hothersall', 46),\n",
    "(54,'China', 'Cash', 'Landis', 48),\n",
    "(55,'Panama', 'Kennith', 'Digance', 45),\n",
    "(56,'China', 'Ulberto', 'Riggeard', 48),\n",
    "(57,'Switzerland', 'Judy', 'Gilligan', 49),\n",
    "(58,'Philippines', 'Tod', 'Trevaskus', 52),\n",
    "(59,'Brazil', 'Herold', 'Heggs', 44),\n",
    "(60,'Latvia', 'Verney', 'Note', 50),\n",
    "(61,'Poland', 'Temp', 'Ribey', 50),\n",
    "(62,'China', 'Conroy', 'Egdal', 48),\n",
    "(63,'Japan', 'Gabie', 'Alessandone', 47),\n",
    "(64,'Ukraine', 'Devlen', 'Chaperlin', 54),\n",
    "(65,'France', 'Babbette', 'Turner', 51),\n",
    "(66,'Czech Republic', 'Virgil', 'Scotney', 52),\n",
    "(67,'Tajikistan', 'Zorina', 'Bedow', 49),\n",
    "(68,'China', 'Aidan', 'Rudeyeard', 50),\n",
    "(69,'Ireland', 'Saunder', 'MacLice', 48),\n",
    "(70,'France', 'Waly', 'Brunstan', 53),\n",
    "(71,'China', 'Gisele', 'Enns', 52),\n",
    "(72,'Peru', 'Mina', 'Winchester', 48),\n",
    "(73,'Japan', 'Torie', 'MacShirrie', 50),\n",
    "(74,'Russia', 'Benjamen', 'Kenford', 51),\n",
    "(75,'China', 'Etan', 'Burn', 53),\n",
    "(76,'Russia', 'Merralee', 'Chaperlin', 38),\n",
    "(77,'Indonesia', 'Lanny', 'Malam', 49),\n",
    "(78,'Canada', 'Wilhelm', 'Deeprose', 54),\n",
    "(79,'Czech Republic', 'Lari', 'Hillhouse', 48),\n",
    "(80,'China', 'Ossie', 'Woodley', 52),\n",
    "(81,'Macedonia', 'April', 'Tyer', 50),\n",
    "(82,'Vietnam', 'Madelon', 'Dansey', 53),\n",
    "(83,'Ukraine', 'Korella', 'McNamee', 52),\n",
    "(84,'Jamaica', 'Linnea', 'Cannam', 43),\n",
    "(85,'China', 'Mart', 'Coling', 52),\n",
    "(86,'Indonesia', 'Marna', 'Causbey', 47),\n",
    "(87,'China', 'Berni', 'Daintier', 55),\n",
    "(88,'Poland', 'Cynthia', 'Hassell', 49),\n",
    "(89,'Canada', 'Carma', 'Schule', 49),\n",
    "(90,'Indonesia', 'Malia', 'Blight', 48),\n",
    "(91,'China', 'Paulo', 'Seivertsen', 47),\n",
    "(92,'Niger', 'Kaylee', 'Hearley', 54),\n",
    "(93,'Japan', 'Maure', 'Jandak', 46),\n",
    "(94,'Argentina', 'Foss', 'Feavers', 45),\n",
    "(95,'Venezuela', 'Ron', 'Leggitt', 60),\n",
    "(96,'Russia', 'Flint', 'Gokes', 40),\n",
    "(97,'China', 'Linet', 'Conelly', 52),\n",
    "(98,'Philippines', 'Nikolas', 'Birtwell', 57),\n",
    "(99,'Australia', 'Eduard', 'Leipelt', 53)\n"
   ]
  },
  {
   "cell_type": "code",
   "execution_count": 14,
   "id": "de2ca38c-7ab8-420d-8b85-bd22cd4e96eb",
   "metadata": {},
   "outputs": [
    {
     "name": "stdout",
     "output_type": "stream",
     "text": [
      " * sqlite:///Test_file.db\n",
      "Done.\n"
     ]
    },
    {
     "data": {
      "text/html": [
       "<table>\n",
       "    <thead>\n",
       "        <tr>\n",
       "            <th>ID</th>\n",
       "            <th>Country</th>\n",
       "            <th>First_name</th>\n",
       "            <th>Last_name</th>\n",
       "            <th>Test_score</th>\n",
       "        </tr>\n",
       "    </thead>\n",
       "    <tbody>\n",
       "        <tr>\n",
       "            <td>1</td>\n",
       "            <td>United States</td>\n",
       "            <td>Marshall</td>\n",
       "            <td>Bernadot</td>\n",
       "            <td>54</td>\n",
       "        </tr>\n",
       "        <tr>\n",
       "            <td>2</td>\n",
       "            <td>Ghana</td>\n",
       "            <td>Celinda</td>\n",
       "            <td>Malkin</td>\n",
       "            <td>51</td>\n",
       "        </tr>\n",
       "        <tr>\n",
       "            <td>3</td>\n",
       "            <td>Ukraine</td>\n",
       "            <td>Guillermo</td>\n",
       "            <td>Furze</td>\n",
       "            <td>53</td>\n",
       "        </tr>\n",
       "        <tr>\n",
       "            <td>4</td>\n",
       "            <td>Greece</td>\n",
       "            <td>Aharon</td>\n",
       "            <td>Tunnow</td>\n",
       "            <td>48</td>\n",
       "        </tr>\n",
       "        <tr>\n",
       "            <td>5</td>\n",
       "            <td>Russia</td>\n",
       "            <td>Bail</td>\n",
       "            <td>Goodwin</td>\n",
       "            <td>46</td>\n",
       "        </tr>\n",
       "    </tbody>\n",
       "</table>"
      ],
      "text/plain": [
       "[(1, 'United States', 'Marshall', 'Bernadot', 54),\n",
       " (2, 'Ghana', 'Celinda', 'Malkin', 51),\n",
       " (3, 'Ukraine', 'Guillermo', 'Furze', 53),\n",
       " (4, 'Greece', 'Aharon', 'Tunnow', 48),\n",
       " (5, 'Russia', 'Bail', 'Goodwin', 46)]"
      ]
     },
     "execution_count": 14,
     "metadata": {},
     "output_type": "execute_result"
    }
   ],
   "source": [
    "#any SQL command can be perfomed on the Table \n",
    "%sql SELECT * from STUDENT_SCORES LIMIT 5;"
   ]
  },
  {
   "cell_type": "code",
   "execution_count": 15,
   "id": "0f9e3d78-7980-47e8-bf63-1e1d13c24db2",
   "metadata": {
    "tags": []
   },
   "outputs": [
    {
     "name": "stdout",
     "output_type": "stream",
     "text": [
      " * sqlite:///Test_file.db\n",
      "Done.\n"
     ]
    },
    {
     "data": {
      "text/html": [
       "<table>\n",
       "    <thead>\n",
       "        <tr>\n",
       "            <th>Test_Scores</th>\n",
       "            <th>Frequency</th>\n",
       "        </tr>\n",
       "    </thead>\n",
       "    <tbody>\n",
       "        <tr>\n",
       "            <td>38</td>\n",
       "            <td>2</td>\n",
       "        </tr>\n",
       "        <tr>\n",
       "            <td>40</td>\n",
       "            <td>1</td>\n",
       "        </tr>\n",
       "        <tr>\n",
       "            <td>43</td>\n",
       "            <td>2</td>\n",
       "        </tr>\n",
       "        <tr>\n",
       "            <td>44</td>\n",
       "            <td>2</td>\n",
       "        </tr>\n",
       "        <tr>\n",
       "            <td>45</td>\n",
       "            <td>8</td>\n",
       "        </tr>\n",
       "        <tr>\n",
       "            <td>46</td>\n",
       "            <td>7</td>\n",
       "        </tr>\n",
       "        <tr>\n",
       "            <td>47</td>\n",
       "            <td>4</td>\n",
       "        </tr>\n",
       "        <tr>\n",
       "            <td>48</td>\n",
       "            <td>14</td>\n",
       "        </tr>\n",
       "        <tr>\n",
       "            <td>49</td>\n",
       "            <td>8</td>\n",
       "        </tr>\n",
       "        <tr>\n",
       "            <td>50</td>\n",
       "            <td>10</td>\n",
       "        </tr>\n",
       "        <tr>\n",
       "            <td>51</td>\n",
       "            <td>8</td>\n",
       "        </tr>\n",
       "        <tr>\n",
       "            <td>52</td>\n",
       "            <td>8</td>\n",
       "        </tr>\n",
       "        <tr>\n",
       "            <td>53</td>\n",
       "            <td>8</td>\n",
       "        </tr>\n",
       "        <tr>\n",
       "            <td>54</td>\n",
       "            <td>5</td>\n",
       "        </tr>\n",
       "        <tr>\n",
       "            <td>55</td>\n",
       "            <td>4</td>\n",
       "        </tr>\n",
       "        <tr>\n",
       "            <td>56</td>\n",
       "            <td>1</td>\n",
       "        </tr>\n",
       "        <tr>\n",
       "            <td>57</td>\n",
       "            <td>2</td>\n",
       "        </tr>\n",
       "        <tr>\n",
       "            <td>58</td>\n",
       "            <td>4</td>\n",
       "        </tr>\n",
       "        <tr>\n",
       "            <td>60</td>\n",
       "            <td>1</td>\n",
       "        </tr>\n",
       "    </tbody>\n",
       "</table>"
      ],
      "text/plain": [
       "[(38, 2),\n",
       " (40, 1),\n",
       " (43, 2),\n",
       " (44, 2),\n",
       " (45, 8),\n",
       " (46, 7),\n",
       " (47, 4),\n",
       " (48, 14),\n",
       " (49, 8),\n",
       " (50, 10),\n",
       " (51, 8),\n",
       " (52, 8),\n",
       " (53, 8),\n",
       " (54, 5),\n",
       " (55, 4),\n",
       " (56, 1),\n",
       " (57, 2),\n",
       " (58, 4),\n",
       " (60, 1)]"
      ]
     },
     "execution_count": 15,
     "metadata": {},
     "output_type": "execute_result"
    }
   ],
   "source": [
    "#result of the query cou;d be assigned to a variable\n",
    "score_distribution = %sql SELECT Test_score as \"Test_Scores\", count(*) as \"Frequency\" FROM STUDENT_SCORES GROUP BY test_score;\n",
    "score_distribution\n"
   ]
  },
  {
   "cell_type": "code",
   "execution_count": 16,
   "id": "dfaa22a1-eeb5-44d0-b9a0-66425d702911",
   "metadata": {
    "tags": []
   },
   "outputs": [
    {
     "data": {
      "text/html": [
       "<div>\n",
       "<style scoped>\n",
       "    .dataframe tbody tr th:only-of-type {\n",
       "        vertical-align: middle;\n",
       "    }\n",
       "\n",
       "    .dataframe tbody tr th {\n",
       "        vertical-align: top;\n",
       "    }\n",
       "\n",
       "    .dataframe thead th {\n",
       "        text-align: right;\n",
       "    }\n",
       "</style>\n",
       "<table border=\"1\" class=\"dataframe\">\n",
       "  <thead>\n",
       "    <tr style=\"text-align: right;\">\n",
       "      <th></th>\n",
       "      <th>Test_Scores</th>\n",
       "      <th>Frequency</th>\n",
       "    </tr>\n",
       "  </thead>\n",
       "  <tbody>\n",
       "    <tr>\n",
       "      <th>0</th>\n",
       "      <td>38</td>\n",
       "      <td>2</td>\n",
       "    </tr>\n",
       "    <tr>\n",
       "      <th>1</th>\n",
       "      <td>40</td>\n",
       "      <td>1</td>\n",
       "    </tr>\n",
       "    <tr>\n",
       "      <th>2</th>\n",
       "      <td>43</td>\n",
       "      <td>2</td>\n",
       "    </tr>\n",
       "    <tr>\n",
       "      <th>3</th>\n",
       "      <td>44</td>\n",
       "      <td>2</td>\n",
       "    </tr>\n",
       "    <tr>\n",
       "      <th>4</th>\n",
       "      <td>45</td>\n",
       "      <td>8</td>\n",
       "    </tr>\n",
       "    <tr>\n",
       "      <th>5</th>\n",
       "      <td>46</td>\n",
       "      <td>7</td>\n",
       "    </tr>\n",
       "    <tr>\n",
       "      <th>6</th>\n",
       "      <td>47</td>\n",
       "      <td>4</td>\n",
       "    </tr>\n",
       "    <tr>\n",
       "      <th>7</th>\n",
       "      <td>48</td>\n",
       "      <td>14</td>\n",
       "    </tr>\n",
       "    <tr>\n",
       "      <th>8</th>\n",
       "      <td>49</td>\n",
       "      <td>8</td>\n",
       "    </tr>\n",
       "    <tr>\n",
       "      <th>9</th>\n",
       "      <td>50</td>\n",
       "      <td>10</td>\n",
       "    </tr>\n",
       "    <tr>\n",
       "      <th>10</th>\n",
       "      <td>51</td>\n",
       "      <td>8</td>\n",
       "    </tr>\n",
       "    <tr>\n",
       "      <th>11</th>\n",
       "      <td>52</td>\n",
       "      <td>8</td>\n",
       "    </tr>\n",
       "    <tr>\n",
       "      <th>12</th>\n",
       "      <td>53</td>\n",
       "      <td>8</td>\n",
       "    </tr>\n",
       "    <tr>\n",
       "      <th>13</th>\n",
       "      <td>54</td>\n",
       "      <td>5</td>\n",
       "    </tr>\n",
       "    <tr>\n",
       "      <th>14</th>\n",
       "      <td>55</td>\n",
       "      <td>4</td>\n",
       "    </tr>\n",
       "    <tr>\n",
       "      <th>15</th>\n",
       "      <td>56</td>\n",
       "      <td>1</td>\n",
       "    </tr>\n",
       "    <tr>\n",
       "      <th>16</th>\n",
       "      <td>57</td>\n",
       "      <td>2</td>\n",
       "    </tr>\n",
       "    <tr>\n",
       "      <th>17</th>\n",
       "      <td>58</td>\n",
       "      <td>4</td>\n",
       "    </tr>\n",
       "    <tr>\n",
       "      <th>18</th>\n",
       "      <td>60</td>\n",
       "      <td>1</td>\n",
       "    </tr>\n",
       "  </tbody>\n",
       "</table>\n",
       "</div>"
      ],
      "text/plain": [
       "    Test_Scores  Frequency\n",
       "0            38          2\n",
       "1            40          1\n",
       "2            43          2\n",
       "3            44          2\n",
       "4            45          8\n",
       "5            46          7\n",
       "6            47          4\n",
       "7            48         14\n",
       "8            49          8\n",
       "9            50         10\n",
       "10           51          8\n",
       "11           52          8\n",
       "12           53          8\n",
       "13           54          5\n",
       "14           55          4\n",
       "15           56          1\n",
       "16           57          2\n",
       "17           58          4\n",
       "18           60          1"
      ]
     },
     "execution_count": 16,
     "metadata": {},
     "output_type": "execute_result"
    }
   ],
   "source": [
    "# the result of a query can also be converted to a pandas dataframe\n",
    "\n",
    "import pandas as pd\n",
    "scores= score_distribution.DataFrame()\n",
    "scores"
   ]
  },
  {
   "cell_type": "code",
   "execution_count": 17,
   "id": "f0c65e85-7ffd-448a-8f09-d1fe82d81946",
   "metadata": {
    "tags": []
   },
   "outputs": [
    {
     "data": {
      "image/png": "[encoded data removed]",
      "text/plain": [
       "<Figure size 640x480 with 1 Axes>"
      ]
     },
     "metadata": {},
     "output_type": "display_data"
    }
   ],
   "source": [
    "import matplotlib.pyplot as plt\n",
    "\n",
    "colors= ['red','blue', 'purple', 'orange', 'green', 'skyblue']\n",
    "scores.plot(kind=\"bar\", x= 'Test_Scores', y= 'Frequency', color= colors)\n",
    "plt.show()"
   ]
  },
  {
   "cell_type": "code",
   "execution_count": null,
   "id": "f54cd45d-3dc2-45ae-9a2c-f48a425040ba",
   "metadata": {},
   "outputs": [],
   "source": []
  }
 ],
 "metadata": {
  "kernelspec": {
   "display_name": "Python 3 (ipykernel)",
   "language": "python",
   "name": "python3"
  },
  "language_info": {
   "codemirror_mode": {
    "name": "ipython",
    "version": 3
   },
   "file_extension": ".py",
   "mimetype": "text/x-python",
   "name": "python",
   "nbconvert_exporter": "python",
   "pygments_lexer": "ipython3",
   "version": "3.11.5"
  }
 },
 "nbformat": 4,
 "nbformat_minor": 5
}
